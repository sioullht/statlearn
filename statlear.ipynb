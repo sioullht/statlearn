{
 "cells": [
  {
   "cell_type": "code",
   "execution_count": 1,
   "id": "7cfb18c5",
   "metadata": {},
   "outputs": [],
   "source": [
    "import pandas as pd"
   ]
  },
  {
   "cell_type": "markdown",
   "id": "290cb15f",
   "metadata": {},
   "source": [
    "**Aktualisierte Datei - nur mit Collumns die wir benötigen**"
   ]
  },
  {
   "cell_type": "code",
   "execution_count": null,
   "id": "e801d1ef",
   "metadata": {},
   "outputs": [
    {
     "name": "stdout",
     "output_type": "stream",
     "text": [
      "   tourney_date surface  match_num  winner_id      winner_name  winner_hand  \\\n",
      "0      19680708   Grass        270     112411    Douglas Smith            U   \n",
      "1      19680708   Grass        271     126914  Louis Pretorius            R   \n",
      "2      19680708   Grass        272     209523     Cecil Pedlow            U   \n",
      "3      19680708   Grass        273     100084        Tom Okker            R   \n",
      "4      19680708   Grass        274     100132  Armistead Neely            R   \n",
      "\n",
      "  winner_ht winner_ioc  winner_age  loser_id  ... winner_rank loser_rank  \\\n",
      "0       NaN        AUS         NaN    110196  ...         NaN        NaN   \n",
      "1       NaN        RSA         NaN    209536  ...         NaN        NaN   \n",
      "2       NaN        IRL         NaN    209535  ...         NaN        NaN   \n",
      "3     178.0        NED        24.3    209534  ...         NaN        NaN   \n",
      "4       NaN        USA        21.3    209533  ...         NaN        NaN   \n",
      "\n",
      "   winner_rank_points loser_rank_points  winner_age winner_ht  winner_hand  \\\n",
      "0                 NaN               NaN         NaN       NaN            U   \n",
      "1                 NaN               NaN         NaN       NaN            R   \n",
      "2                 NaN               NaN         NaN       NaN            U   \n",
      "3                 NaN               NaN        24.3     178.0            R   \n",
      "4                 NaN               NaN        21.3       NaN            R   \n",
      "\n",
      "   loser_age  loser_ht  loser_hand  \n",
      "0       24.0       NaN           U  \n",
      "1        NaN       NaN           U  \n",
      "2        NaN       NaN           U  \n",
      "3        NaN       NaN           U  \n",
      "4        NaN       NaN           U  \n",
      "\n",
      "[5 rows x 44 columns]\n"
     ]
    }
   ],
   "source": [
    "df = pd.read_csv('atp_matches_till_2022.csv')\n",
    "\n",
    "spalten = [\n",
    "    'tourney_date', 'surface', 'match_num', 'winner_id', 'winner_name', 'winner_hand', 'winner_ht', 'winner_ioc', 'winner_age',\n",
    "    'loser_id', 'loser_name', 'loser_hand', 'loser_ht', 'loser_ioc', 'loser_age', 'score',\n",
    "    'w_ace', 'w_df', 'w_svpt', 'w_1stIn', 'w_1stWon', 'w_2ndWon', 'w_bpSaved', 'w_bpFaced', 'w_SvGms',\n",
    "    'l_ace', 'l_df', 'l_svpt', 'l_1stIn', 'l_1stWon', 'l_2ndWon', 'l_bpSaved', 'l_bpFaced', 'l_SvGms',\n",
    "    'winner_rank', 'loser_rank', 'winner_rank_points', 'loser_rank_points',\n",
    "    'winner_age', 'winner_ht', 'winner_hand', 'loser_age', 'loser_ht', 'loser_hand'\n",
    "]\n",
    "\n",
    "df = df[spalten]\n",
    "\n",
    "print(df.head())\n",
    "\n",
    "df.to_csv('ATP_bereinigt.csv', index=False)"
   ]
  },
  {
   "cell_type": "markdown",
   "id": "8dddc3cf",
   "metadata": {},
   "source": [
    "**Bereinigen der Dateien die vor 2000 und nach 2020 sind** "
   ]
  },
  {
   "cell_type": "code",
   "execution_count": null,
   "id": "fe2c053e",
   "metadata": {},
   "outputs": [],
   "source": [
    "df = pd.read_csv('ATP_bereinigt.csv')\n",
    "\n",
    "df['tourney_date'] = pd.to_numeric(df['tourney_date'], errors='coerce')\n",
    "\n",
    "df['year'] = df['tourney_date'] // 10000\n",
    "\n",
    "df_filtered = df[(df['year'] >= 2000) & (df['year'] <= 2020)]\n",
    "\n",
    "df_filtered = df_filtered.drop(columns=['year'])\n",
    "\n",
    "df_filtered.to_csv('ATP_bereinigt_2000-2020.csv', index=False)"
   ]
  },
  {
   "cell_type": "markdown",
   "id": "55d7219a",
   "metadata": {},
   "source": [
    "**Überprüfung und herausfiltern der Unbrauchbare Werte und Matches**"
   ]
  },
  {
   "cell_type": "code",
   "execution_count": null,
   "id": "e32a5ff1",
   "metadata": {},
   "outputs": [],
   "source": [
    "#TODO: NaN Werte herausfiltern\n",
    "#TODO: Unbrauchbare Werte definieren -> Unknown bei Hand etc. -> Was noch und dann ebenfalls herausfiltern"
   ]
  }
 ],
 "metadata": {
  "kernelspec": {
   "display_name": "statlear",
   "language": "python",
   "name": "python3"
  },
  "language_info": {
   "codemirror_mode": {
    "name": "ipython",
    "version": 3
   },
   "file_extension": ".py",
   "mimetype": "text/x-python",
   "name": "python",
   "nbconvert_exporter": "python",
   "pygments_lexer": "ipython3",
   "version": "3.11.5"
  }
 },
 "nbformat": 4,
 "nbformat_minor": 5
}
